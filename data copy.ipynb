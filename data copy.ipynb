{
 "cells": [
  {
   "cell_type": "code",
   "execution_count": 28,
   "metadata": {},
   "outputs": [],
   "source": [
    "import pandas as pd \n",
    "import numpy as np \n",
    "import datetime as dt \n",
    "from matplotlib import pyplot as plt \n",
    "import roo_bs_calc as calc2\n",
    "from matplotlib import pyplot as plt"
   ]
  },
  {
   "cell_type": "code",
   "execution_count": 29,
   "metadata": {},
   "outputs": [],
   "source": [
    "#wk 2 4/4 - 4/8\n",
    "df = pd.read_csv('spy_truncated.csv')"
   ]
  },
  {
   "cell_type": "code",
   "execution_count": 30,
   "metadata": {},
   "outputs": [
    {
     "data": {
      "text/html": [
       "<div>\n",
       "<style scoped>\n",
       "    .dataframe tbody tr th:only-of-type {\n",
       "        vertical-align: middle;\n",
       "    }\n",
       "\n",
       "    .dataframe tbody tr th {\n",
       "        vertical-align: top;\n",
       "    }\n",
       "\n",
       "    .dataframe thead th {\n",
       "        text-align: right;\n",
       "    }\n",
       "</style>\n",
       "<table border=\"1\" class=\"dataframe\">\n",
       "  <thead>\n",
       "    <tr style=\"text-align: right;\">\n",
       "      <th></th>\n",
       "      <th>date</th>\n",
       "      <th>callExp</th>\n",
       "      <th>ticker</th>\n",
       "      <th>underlying</th>\n",
       "      <th>strike</th>\n",
       "      <th>bid</th>\n",
       "      <th>ask</th>\n",
       "      <th>days_maturity</th>\n",
       "      <th>interest</th>\n",
       "    </tr>\n",
       "  </thead>\n",
       "  <tbody>\n",
       "    <tr>\n",
       "      <th>77956</th>\n",
       "      <td>04-08-22 13:00</td>\n",
       "      <td>4/14/22</td>\n",
       "      <td>SPY</td>\n",
       "      <td>447.77</td>\n",
       "      <td>463.0</td>\n",
       "      <td>0.05</td>\n",
       "      <td>0.06</td>\n",
       "      <td>6.0</td>\n",
       "      <td>0.01</td>\n",
       "    </tr>\n",
       "    <tr>\n",
       "      <th>77957</th>\n",
       "      <td>04-08-22 13:00</td>\n",
       "      <td>4/14/22</td>\n",
       "      <td>SPY</td>\n",
       "      <td>447.77</td>\n",
       "      <td>464.0</td>\n",
       "      <td>0.04</td>\n",
       "      <td>0.05</td>\n",
       "      <td>6.0</td>\n",
       "      <td>0.01</td>\n",
       "    </tr>\n",
       "    <tr>\n",
       "      <th>77958</th>\n",
       "      <td>04-08-22 13:00</td>\n",
       "      <td>4/14/22</td>\n",
       "      <td>SPY</td>\n",
       "      <td>447.77</td>\n",
       "      <td>465.0</td>\n",
       "      <td>0.03</td>\n",
       "      <td>0.04</td>\n",
       "      <td>6.0</td>\n",
       "      <td>0.01</td>\n",
       "    </tr>\n",
       "    <tr>\n",
       "      <th>77959</th>\n",
       "      <td>04-08-22 13:00</td>\n",
       "      <td>4/14/22</td>\n",
       "      <td>SPY</td>\n",
       "      <td>447.77</td>\n",
       "      <td>466.0</td>\n",
       "      <td>0.03</td>\n",
       "      <td>0.04</td>\n",
       "      <td>6.0</td>\n",
       "      <td>0.01</td>\n",
       "    </tr>\n",
       "    <tr>\n",
       "      <th>77960</th>\n",
       "      <td>04-08-22 13:00</td>\n",
       "      <td>4/14/22</td>\n",
       "      <td>SPY</td>\n",
       "      <td>447.77</td>\n",
       "      <td>467.0</td>\n",
       "      <td>0.02</td>\n",
       "      <td>0.03</td>\n",
       "      <td>6.0</td>\n",
       "      <td>0.01</td>\n",
       "    </tr>\n",
       "  </tbody>\n",
       "</table>\n",
       "</div>"
      ],
      "text/plain": [
       "                 date  callExp ticker  underlying  strike   bid   ask  \\\n",
       "77956  04-08-22 13:00  4/14/22    SPY      447.77   463.0  0.05  0.06   \n",
       "77957  04-08-22 13:00  4/14/22    SPY      447.77   464.0  0.04  0.05   \n",
       "77958  04-08-22 13:00  4/14/22    SPY      447.77   465.0  0.03  0.04   \n",
       "77959  04-08-22 13:00  4/14/22    SPY      447.77   466.0  0.03  0.04   \n",
       "77960  04-08-22 13:00  4/14/22    SPY      447.77   467.0  0.02  0.03   \n",
       "\n",
       "       days_maturity  interest  \n",
       "77956            6.0      0.01  \n",
       "77957            6.0      0.01  \n",
       "77958            6.0      0.01  \n",
       "77959            6.0      0.01  \n",
       "77960            6.0      0.01  "
      ]
     },
     "execution_count": 30,
     "metadata": {},
     "output_type": "execute_result"
    }
   ],
   "source": [
    "df.tail()"
   ]
  },
  {
   "cell_type": "code",
   "execution_count": 31,
   "metadata": {},
   "outputs": [
    {
     "name": "stderr",
     "output_type": "stream",
     "text": [
      "/var/folders/qs/08lrvdq116j2p_7gkyvmdryw0000gn/T/ipykernel_24553/2616375780.py:2: SettingWithCopyWarning: \n",
      "A value is trying to be set on a copy of a slice from a DataFrame\n",
      "\n",
      "See the caveats in the documentation: https://pandas.pydata.org/pandas-docs/stable/user_guide/indexing.html#returning-a-view-versus-a-copy\n",
      "  df['date'][i] = pd.to_datetime(df['date'][i])\n"
     ]
    }
   ],
   "source": [
    "for i in range(len(df)):\n",
    "    df['date'][i] = pd.to_datetime(df['date'][i])"
   ]
  },
  {
   "cell_type": "code",
   "execution_count": 32,
   "metadata": {},
   "outputs": [],
   "source": [
    "wk_4 = df.loc[df['date']>= dt.datetime(2022,4,4)]\n",
    "wk_4 = wk_4.loc[df['date']<= dt.datetime(2022,4,9)]"
   ]
  },
  {
   "cell_type": "code",
   "execution_count": 33,
   "metadata": {},
   "outputs": [],
   "source": [
    "wk_4['vol'] = 0.0\n",
    "wk_4 = wk_4.reset_index(drop=True)"
   ]
  },
  {
   "cell_type": "code",
   "execution_count": 34,
   "metadata": {},
   "outputs": [
    {
     "name": "stderr",
     "output_type": "stream",
     "text": [
      "/Users/roofernando/Desktop/git_repo/smile_article/roo_bs_calc.py:8: RuntimeWarning: divide by zero encountered in double_scalars\n",
      "  d1 = (np.log(s/k) + ((r + (i**2)/2))*t)/(i*np.sqrt(t))\n",
      "/var/folders/qs/08lrvdq116j2p_7gkyvmdryw0000gn/T/ipykernel_24553/3666660961.py:7: SettingWithCopyWarning: \n",
      "A value is trying to be set on a copy of a slice from a DataFrame\n",
      "\n",
      "See the caveats in the documentation: https://pandas.pydata.org/pandas-docs/stable/user_guide/indexing.html#returning-a-view-versus-a-copy\n",
      "  wk_4['vol'][i] = calc2.iv_calc(s,k,t,r,C)\n"
     ]
    }
   ],
   "source": [
    "for i in range(len(wk_4)):\n",
    "    s = wk_4['underlying'][i]\n",
    "    k = wk_4['strike'][i]\n",
    "    r = wk_4['interest'][i]\n",
    "    t = wk_4['days_maturity'][i]/365\n",
    "    C = (wk_4['bid'][i]+wk_4['ask'][i])/2.0\n",
    "    wk_4['vol'][i] = calc2.iv_calc(s,k,t,r,C)"
   ]
  },
  {
   "cell_type": "code",
   "execution_count": 11,
   "metadata": {},
   "outputs": [],
   "source": [
    "#print(wk_1['vol'].mean(), wk_2['vol'].mean())\n",
    "#0.141179916449231 0.17501913234768438"
   ]
  },
  {
   "cell_type": "code",
   "execution_count": 35,
   "metadata": {},
   "outputs": [],
   "source": [
    "df_2 = wk_4"
   ]
  },
  {
   "cell_type": "code",
   "execution_count": 36,
   "metadata": {},
   "outputs": [],
   "source": [
    "df_2 = df_2.loc[df_2['vol'] > 0.05]\n",
    "df_2 = df_2.loc[df_2['vol'] < 0.9]\n",
    "\n",
    "df_2['pct_away'] = 0.0\n",
    "\n",
    "df_2 = df_2.reset_index(drop=True)"
   ]
  },
  {
   "cell_type": "code",
   "execution_count": 37,
   "metadata": {},
   "outputs": [
    {
     "name": "stderr",
     "output_type": "stream",
     "text": [
      "/var/folders/qs/08lrvdq116j2p_7gkyvmdryw0000gn/T/ipykernel_24553/3497575406.py:2: SettingWithCopyWarning: \n",
      "A value is trying to be set on a copy of a slice from a DataFrame\n",
      "\n",
      "See the caveats in the documentation: https://pandas.pydata.org/pandas-docs/stable/user_guide/indexing.html#returning-a-view-versus-a-copy\n",
      "  df_2['pct_away'][i] = ((df_2['strike'][i]/df_2['underlying'][i])-1)*100\n"
     ]
    }
   ],
   "source": [
    "for i in range(len(df_2)):\n",
    "    df_2['pct_away'][i] = ((df_2['strike'][i]/df_2['underlying'][i])-1)*100"
   ]
  },
  {
   "cell_type": "code",
   "execution_count": 20,
   "metadata": {},
   "outputs": [
    {
     "data": {
      "text/plain": [
       "<matplotlib.collections.PathCollection at 0x121a0b9d0>"
      ]
     },
     "execution_count": 20,
     "metadata": {},
     "output_type": "execute_result"
    },
    {
     "data": {
      "image/png": "[encoded data removed]",
      "text/plain": [
       "<Figure size 432x288 with 1 Axes>"
      ]
     },
     "metadata": {
      "needs_background": "light"
     },
     "output_type": "display_data"
    }
   ],
   "source": [
    "plt.scatter(df_2['pct_away'],df_2['vol'])"
   ]
  },
  {
   "cell_type": "code",
   "execution_count": 21,
   "metadata": {},
   "outputs": [],
   "source": [
    "df_2.to_csv(\"4_4_to_4_8_new.csv\")"
   ]
  },
  {
   "cell_type": "code",
   "execution_count": null,
   "metadata": {},
   "outputs": [],
   "source": []
  }
 ],
 "metadata": {
  "interpreter": {
   "hash": "aee8b7b246df8f9039afb4144a1f6fd8d2ca17a180786b69acc140d282b71a49"
  },
  "kernelspec": {
   "display_name": "Python 3.10.0 64-bit",
   "name": "python3"
  },
  "language_info": {
   "codemirror_mode": {
    "name": "ipython",
    "version": 3
   },
   "file_extension": ".py",
   "mimetype": "text/x-python",
   "name": "python",
   "nbconvert_exporter": "python",
   "pygments_lexer": "ipython3",
   "version": "3.10.2"
  },
  "orig_nbformat": 4
 },
 "nbformat": 4,
 "nbformat_minor": 2
}
