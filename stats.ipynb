{
 "cells": [
  {
   "cell_type": "code",
   "execution_count": 16,
   "metadata": {},
   "outputs": [],
   "source": [
    "import numpy as np\n",
    "import pandas as pd\n",
    "import datetime as dt\n",
    "import eod_ohlc_pull as eod\n",
    "from matplotlib import pyplot as plt"
   ]
  },
  {
   "cell_type": "code",
   "execution_count": 27,
   "metadata": {},
   "outputs": [],
   "source": [
    "start = '2021-01-01'\n",
    "end = '2021-12-31'\n",
    "df = eod.ohlc(start, end, 'INTC')"
   ]
  },
  {
   "cell_type": "code",
   "execution_count": 28,
   "metadata": {},
   "outputs": [],
   "source": [
    "df = pd.DataFrame.from_dict(df)"
   ]
  },
  {
   "cell_type": "code",
   "execution_count": 29,
   "metadata": {},
   "outputs": [
    {
     "data": {
      "text/html": [
       "<div>\n",
       "<style scoped>\n",
       "    .dataframe tbody tr th:only-of-type {\n",
       "        vertical-align: middle;\n",
       "    }\n",
       "\n",
       "    .dataframe tbody tr th {\n",
       "        vertical-align: top;\n",
       "    }\n",
       "\n",
       "    .dataframe thead th {\n",
       "        text-align: right;\n",
       "    }\n",
       "</style>\n",
       "<table border=\"1\" class=\"dataframe\">\n",
       "  <thead>\n",
       "    <tr style=\"text-align: right;\">\n",
       "      <th></th>\n",
       "      <th>date</th>\n",
       "      <th>open</th>\n",
       "      <th>high</th>\n",
       "      <th>low</th>\n",
       "      <th>close</th>\n",
       "      <th>adjusted_close</th>\n",
       "      <th>volume</th>\n",
       "    </tr>\n",
       "  </thead>\n",
       "  <tbody>\n",
       "    <tr>\n",
       "      <th>0</th>\n",
       "      <td>2021-12-31</td>\n",
       "      <td>51.89</td>\n",
       "      <td>52.159</td>\n",
       "      <td>51.46</td>\n",
       "      <td>51.50</td>\n",
       "      <td>51.1107</td>\n",
       "      <td>16318970</td>\n",
       "    </tr>\n",
       "    <tr>\n",
       "      <th>1</th>\n",
       "      <td>2021-12-30</td>\n",
       "      <td>51.92</td>\n",
       "      <td>52.140</td>\n",
       "      <td>51.65</td>\n",
       "      <td>51.74</td>\n",
       "      <td>51.3488</td>\n",
       "      <td>18359359</td>\n",
       "    </tr>\n",
       "  </tbody>\n",
       "</table>\n",
       "</div>"
      ],
      "text/plain": [
       "         date   open    high    low  close  adjusted_close    volume\n",
       "0  2021-12-31  51.89  52.159  51.46  51.50         51.1107  16318970\n",
       "1  2021-12-30  51.92  52.140  51.65  51.74         51.3488  18359359"
      ]
     },
     "execution_count": 29,
     "metadata": {},
     "output_type": "execute_result"
    }
   ],
   "source": [
    "df.head(2)"
   ]
  },
  {
   "cell_type": "code",
   "execution_count": 30,
   "metadata": {},
   "outputs": [],
   "source": [
    "df['pct_change'] = df['adjusted_close'].pct_change()"
   ]
  },
  {
   "cell_type": "code",
   "execution_count": 33,
   "metadata": {},
   "outputs": [],
   "source": [
    "df['pct_change'] = df['pct_change']*100"
   ]
  },
  {
   "cell_type": "code",
   "execution_count": 39,
   "metadata": {},
   "outputs": [
    {
     "data": {
      "text/html": [
       "<div>\n",
       "<style scoped>\n",
       "    .dataframe tbody tr th:only-of-type {\n",
       "        vertical-align: middle;\n",
       "    }\n",
       "\n",
       "    .dataframe tbody tr th {\n",
       "        vertical-align: top;\n",
       "    }\n",
       "\n",
       "    .dataframe thead th {\n",
       "        text-align: right;\n",
       "    }\n",
       "</style>\n",
       "<table border=\"1\" class=\"dataframe\">\n",
       "  <thead>\n",
       "    <tr style=\"text-align: right;\">\n",
       "      <th></th>\n",
       "      <th>date</th>\n",
       "      <th>open</th>\n",
       "      <th>high</th>\n",
       "      <th>low</th>\n",
       "      <th>close</th>\n",
       "      <th>adjusted_close</th>\n",
       "      <th>volume</th>\n",
       "      <th>pct_change</th>\n",
       "    </tr>\n",
       "  </thead>\n",
       "  <tbody>\n",
       "    <tr>\n",
       "      <th>248</th>\n",
       "      <td>2021-01-07</td>\n",
       "      <td>51.490</td>\n",
       "      <td>52.69</td>\n",
       "      <td>51.3000</td>\n",
       "      <td>52.19</td>\n",
       "      <td>50.4882</td>\n",
       "      <td>32092340</td>\n",
       "      <td>1.045515</td>\n",
       "    </tr>\n",
       "    <tr>\n",
       "      <th>249</th>\n",
       "      <td>2021-01-06</td>\n",
       "      <td>50.435</td>\n",
       "      <td>52.15</td>\n",
       "      <td>50.2000</td>\n",
       "      <td>51.10</td>\n",
       "      <td>49.4338</td>\n",
       "      <td>36809641</td>\n",
       "      <td>-2.088409</td>\n",
       "    </tr>\n",
       "    <tr>\n",
       "      <th>250</th>\n",
       "      <td>2021-01-05</td>\n",
       "      <td>49.445</td>\n",
       "      <td>50.83</td>\n",
       "      <td>49.3300</td>\n",
       "      <td>50.61</td>\n",
       "      <td>48.9597</td>\n",
       "      <td>24866561</td>\n",
       "      <td>-0.959060</td>\n",
       "    </tr>\n",
       "    <tr>\n",
       "      <th>251</th>\n",
       "      <td>2021-01-04</td>\n",
       "      <td>49.890</td>\n",
       "      <td>51.39</td>\n",
       "      <td>49.4016</td>\n",
       "      <td>49.67</td>\n",
       "      <td>48.0504</td>\n",
       "      <td>46102461</td>\n",
       "      <td>-1.857242</td>\n",
       "    </tr>\n",
       "  </tbody>\n",
       "</table>\n",
       "</div>"
      ],
      "text/plain": [
       "           date    open   high      low  close  adjusted_close    volume  \\\n",
       "248  2021-01-07  51.490  52.69  51.3000  52.19         50.4882  32092340   \n",
       "249  2021-01-06  50.435  52.15  50.2000  51.10         49.4338  36809641   \n",
       "250  2021-01-05  49.445  50.83  49.3300  50.61         48.9597  24866561   \n",
       "251  2021-01-04  49.890  51.39  49.4016  49.67         48.0504  46102461   \n",
       "\n",
       "     pct_change  \n",
       "248    1.045515  \n",
       "249   -2.088409  \n",
       "250   -0.959060  \n",
       "251   -1.857242  "
      ]
     },
     "execution_count": 39,
     "metadata": {},
     "output_type": "execute_result"
    }
   ],
   "source": [
    "df.tail(4)"
   ]
  },
  {
   "cell_type": "code",
   "execution_count": 42,
   "metadata": {},
   "outputs": [],
   "source": [
    "df['pct_change'].mean()\n",
    "avg = df['pct_change'].mean()"
   ]
  },
  {
   "cell_type": "code",
   "execution_count": 52,
   "metadata": {},
   "outputs": [
    {
     "name": "stdout",
     "output_type": "stream",
     "text": [
      "nan\n",
      "nan\n",
      "nan\n"
     ]
    }
   ],
   "source": [
    "n = len(df)-1\n",
    "value = 0.0\n",
    "for i in range(len(df)):\n",
    "    other = (float(df['pct_change'][i]) - avg)**2\n",
    "    value += other\n",
    "variance = value/n\n",
    "print(variance)\n",
    "vol = np.sqrt(variance)\n",
    "print(vol)"
   ]
  },
  {
   "cell_type": "code",
   "execution_count": 53,
   "metadata": {},
   "outputs": [],
   "source": [
    "dh = pd.read_csv('test.csv')"
   ]
  },
  {
   "cell_type": "code",
   "execution_count": null,
   "metadata": {},
   "outputs": [],
   "source": []
  }
 ],
 "metadata": {
  "interpreter": {
   "hash": "aee8b7b246df8f9039afb4144a1f6fd8d2ca17a180786b69acc140d282b71a49"
  },
  "kernelspec": {
   "display_name": "Python 3.10.2 64-bit",
   "language": "python",
   "name": "python3"
  },
  "language_info": {
   "codemirror_mode": {
    "name": "ipython",
    "version": 3
   },
   "file_extension": ".py",
   "mimetype": "text/x-python",
   "name": "python",
   "nbconvert_exporter": "python",
   "pygments_lexer": "ipython3",
   "version": "3.10.2"
  },
  "orig_nbformat": 4
 },
 "nbformat": 4,
 "nbformat_minor": 2
}
