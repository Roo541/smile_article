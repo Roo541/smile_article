{
 "cells": [
  {
   "cell_type": "code",
   "execution_count": 2,
   "metadata": {},
   "outputs": [],
   "source": [
    "import pandas as pd \n",
    "import numpy as np \n",
    "import datetime as dt \n",
    "from matplotlib import pyplot as plt "
   ]
  },
  {
   "cell_type": "code",
   "execution_count": 3,
   "metadata": {},
   "outputs": [],
   "source": [
    "#wk 1 3/29-4/1 \n",
    "#wk 2 4/4 - 4/8\n",
    "df = pd.read_csv('spy_options.csv')"
   ]
  },
  {
   "cell_type": "code",
   "execution_count": 4,
   "metadata": {},
   "outputs": [],
   "source": [
    "df = df.drop(columns=['Unnamed: 0'])"
   ]
  },
  {
   "cell_type": "code",
   "execution_count": 5,
   "metadata": {},
   "outputs": [
    {
     "data": {
      "text/html": [
       "<div>\n",
       "<style scoped>\n",
       "    .dataframe tbody tr th:only-of-type {\n",
       "        vertical-align: middle;\n",
       "    }\n",
       "\n",
       "    .dataframe tbody tr th {\n",
       "        vertical-align: top;\n",
       "    }\n",
       "\n",
       "    .dataframe thead th {\n",
       "        text-align: right;\n",
       "    }\n",
       "</style>\n",
       "<table border=\"1\" class=\"dataframe\">\n",
       "  <thead>\n",
       "    <tr style=\"text-align: right;\">\n",
       "      <th></th>\n",
       "      <th>date</th>\n",
       "      <th>callExp</th>\n",
       "      <th>ticker</th>\n",
       "      <th>underlying</th>\n",
       "      <th>strike</th>\n",
       "      <th>bid</th>\n",
       "      <th>ask</th>\n",
       "      <th>days_maturity</th>\n",
       "      <th>interest</th>\n",
       "    </tr>\n",
       "  </thead>\n",
       "  <tbody>\n",
       "    <tr>\n",
       "      <th>0</th>\n",
       "      <td>3/22/22 6:29</td>\n",
       "      <td>4/14/22</td>\n",
       "      <td>SPY</td>\n",
       "      <td>445.835</td>\n",
       "      <td>425</td>\n",
       "      <td>23.65</td>\n",
       "      <td>23.86</td>\n",
       "      <td>23</td>\n",
       "      <td>0.01</td>\n",
       "    </tr>\n",
       "    <tr>\n",
       "      <th>1</th>\n",
       "      <td>3/22/22 6:29</td>\n",
       "      <td>4/14/22</td>\n",
       "      <td>SPY</td>\n",
       "      <td>445.835</td>\n",
       "      <td>426</td>\n",
       "      <td>22.85</td>\n",
       "      <td>23.20</td>\n",
       "      <td>23</td>\n",
       "      <td>0.01</td>\n",
       "    </tr>\n",
       "    <tr>\n",
       "      <th>2</th>\n",
       "      <td>3/22/22 6:29</td>\n",
       "      <td>4/14/22</td>\n",
       "      <td>SPY</td>\n",
       "      <td>445.835</td>\n",
       "      <td>427</td>\n",
       "      <td>22.03</td>\n",
       "      <td>22.21</td>\n",
       "      <td>23</td>\n",
       "      <td>0.01</td>\n",
       "    </tr>\n",
       "    <tr>\n",
       "      <th>3</th>\n",
       "      <td>3/22/22 6:29</td>\n",
       "      <td>4/14/22</td>\n",
       "      <td>SPY</td>\n",
       "      <td>445.835</td>\n",
       "      <td>428</td>\n",
       "      <td>21.19</td>\n",
       "      <td>21.34</td>\n",
       "      <td>23</td>\n",
       "      <td>0.01</td>\n",
       "    </tr>\n",
       "    <tr>\n",
       "      <th>4</th>\n",
       "      <td>3/22/22 6:29</td>\n",
       "      <td>4/14/22</td>\n",
       "      <td>SPY</td>\n",
       "      <td>445.835</td>\n",
       "      <td>429</td>\n",
       "      <td>20.40</td>\n",
       "      <td>20.53</td>\n",
       "      <td>23</td>\n",
       "      <td>0.01</td>\n",
       "    </tr>\n",
       "  </tbody>\n",
       "</table>\n",
       "</div>"
      ],
      "text/plain": [
       "           date  callExp ticker  underlying  strike    bid    ask  \\\n",
       "0  3/22/22 6:29  4/14/22    SPY     445.835     425  23.65  23.86   \n",
       "1  3/22/22 6:29  4/14/22    SPY     445.835     426  22.85  23.20   \n",
       "2  3/22/22 6:29  4/14/22    SPY     445.835     427  22.03  22.21   \n",
       "3  3/22/22 6:29  4/14/22    SPY     445.835     428  21.19  21.34   \n",
       "4  3/22/22 6:29  4/14/22    SPY     445.835     429  20.40  20.53   \n",
       "\n",
       "   days_maturity  interest  \n",
       "0             23      0.01  \n",
       "1             23      0.01  \n",
       "2             23      0.01  \n",
       "3             23      0.01  \n",
       "4             23      0.01  "
      ]
     },
     "execution_count": 5,
     "metadata": {},
     "output_type": "execute_result"
    }
   ],
   "source": [
    "df.head()"
   ]
  },
  {
   "cell_type": "code",
   "execution_count": 6,
   "metadata": {},
   "outputs": [
    {
     "name": "stderr",
     "output_type": "stream",
     "text": [
      "/var/folders/qs/08lrvdq116j2p_7gkyvmdryw0000gn/T/ipykernel_13503/2616375780.py:2: SettingWithCopyWarning: \n",
      "A value is trying to be set on a copy of a slice from a DataFrame\n",
      "\n",
      "See the caveats in the documentation: https://pandas.pydata.org/pandas-docs/stable/user_guide/indexing.html#returning-a-view-versus-a-copy\n",
      "  df['date'][i] = pd.to_datetime(df['date'][i])\n"
     ]
    }
   ],
   "source": [
    "for i in range(len(df)):\n",
    "    df['date'][i] = pd.to_datetime(df['date'][i])"
   ]
  },
  {
   "cell_type": "code",
   "execution_count": 19,
   "metadata": {},
   "outputs": [],
   "source": [
    "#week 1 3/29 - 4/1\n",
    "wk_1 = df.loc[df['date']>= dt.datetime(2022,3,29)]\n",
    "wk_1 = wk_1.loc[df['date']<= dt.datetime(2022,4,2)]\n",
    "#week 2 4/4 - 4/8\n",
    "wk_2 = df.loc[df['date']>= dt.datetime(2022,4,4)]\n",
    "wk_2 = wk_2.loc[df['date']<= dt.datetime(2022,4,9)]"
   ]
  },
  {
   "cell_type": "code",
   "execution_count": 39,
   "metadata": {},
   "outputs": [],
   "source": [
    "wk_1['vol'] = 0.0\n",
    "wk_2['vol'] = 0.0\n",
    "\n",
    "wk_1 = wk_1.reset_index(drop=True)\n",
    "wk_2 = wk_2.reset_index(drop=True)"
   ]
  },
  {
   "cell_type": "code",
   "execution_count": 58,
   "metadata": {},
   "outputs": [],
   "source": [
    "import black_scholes_calc as other"
   ]
  },
  {
   "cell_type": "code",
   "execution_count": 59,
   "metadata": {},
   "outputs": [],
   "source": [
    "dh = wk_1.head(10)"
   ]
  },
  {
   "cell_type": "code",
   "execution_count": 61,
   "metadata": {},
   "outputs": [
    {
     "data": {
      "text/html": [
       "<div>\n",
       "<style scoped>\n",
       "    .dataframe tbody tr th:only-of-type {\n",
       "        vertical-align: middle;\n",
       "    }\n",
       "\n",
       "    .dataframe tbody tr th {\n",
       "        vertical-align: top;\n",
       "    }\n",
       "\n",
       "    .dataframe thead th {\n",
       "        text-align: right;\n",
       "    }\n",
       "</style>\n",
       "<table border=\"1\" class=\"dataframe\">\n",
       "  <thead>\n",
       "    <tr style=\"text-align: right;\">\n",
       "      <th></th>\n",
       "      <th>date</th>\n",
       "      <th>callExp</th>\n",
       "      <th>ticker</th>\n",
       "      <th>underlying</th>\n",
       "      <th>strike</th>\n",
       "      <th>bid</th>\n",
       "      <th>ask</th>\n",
       "      <th>days_maturity</th>\n",
       "      <th>interest</th>\n",
       "      <th>vol</th>\n",
       "    </tr>\n",
       "  </thead>\n",
       "  <tbody>\n",
       "    <tr>\n",
       "      <th>0</th>\n",
       "      <td>2022-03-29 06:29:00</td>\n",
       "      <td>4/14/22</td>\n",
       "      <td>SPY</td>\n",
       "      <td>459.805</td>\n",
       "      <td>436</td>\n",
       "      <td>21.55</td>\n",
       "      <td>22.22</td>\n",
       "      <td>16</td>\n",
       "      <td>0.01</td>\n",
       "      <td>0.0</td>\n",
       "    </tr>\n",
       "    <tr>\n",
       "      <th>1</th>\n",
       "      <td>2022-03-29 06:29:00</td>\n",
       "      <td>4/14/22</td>\n",
       "      <td>SPY</td>\n",
       "      <td>459.805</td>\n",
       "      <td>437</td>\n",
       "      <td>20.66</td>\n",
       "      <td>21.32</td>\n",
       "      <td>16</td>\n",
       "      <td>0.01</td>\n",
       "      <td>0.0</td>\n",
       "    </tr>\n",
       "    <tr>\n",
       "      <th>2</th>\n",
       "      <td>2022-03-29 06:29:00</td>\n",
       "      <td>4/14/22</td>\n",
       "      <td>SPY</td>\n",
       "      <td>459.805</td>\n",
       "      <td>438</td>\n",
       "      <td>19.78</td>\n",
       "      <td>20.41</td>\n",
       "      <td>16</td>\n",
       "      <td>0.01</td>\n",
       "      <td>0.0</td>\n",
       "    </tr>\n",
       "    <tr>\n",
       "      <th>3</th>\n",
       "      <td>2022-03-29 06:29:00</td>\n",
       "      <td>4/14/22</td>\n",
       "      <td>SPY</td>\n",
       "      <td>459.805</td>\n",
       "      <td>439</td>\n",
       "      <td>18.93</td>\n",
       "      <td>19.52</td>\n",
       "      <td>16</td>\n",
       "      <td>0.01</td>\n",
       "      <td>0.0</td>\n",
       "    </tr>\n",
       "    <tr>\n",
       "      <th>4</th>\n",
       "      <td>2022-03-29 06:29:00</td>\n",
       "      <td>4/14/22</td>\n",
       "      <td>SPY</td>\n",
       "      <td>459.805</td>\n",
       "      <td>440</td>\n",
       "      <td>18.10</td>\n",
       "      <td>18.48</td>\n",
       "      <td>16</td>\n",
       "      <td>0.01</td>\n",
       "      <td>0.0</td>\n",
       "    </tr>\n",
       "    <tr>\n",
       "      <th>5</th>\n",
       "      <td>2022-03-29 06:29:00</td>\n",
       "      <td>4/14/22</td>\n",
       "      <td>SPY</td>\n",
       "      <td>459.805</td>\n",
       "      <td>441</td>\n",
       "      <td>17.18</td>\n",
       "      <td>17.66</td>\n",
       "      <td>16</td>\n",
       "      <td>0.01</td>\n",
       "      <td>0.0</td>\n",
       "    </tr>\n",
       "    <tr>\n",
       "      <th>6</th>\n",
       "      <td>2022-03-29 06:29:00</td>\n",
       "      <td>4/14/22</td>\n",
       "      <td>SPY</td>\n",
       "      <td>459.805</td>\n",
       "      <td>442</td>\n",
       "      <td>16.34</td>\n",
       "      <td>16.93</td>\n",
       "      <td>16</td>\n",
       "      <td>0.01</td>\n",
       "      <td>0.0</td>\n",
       "    </tr>\n",
       "    <tr>\n",
       "      <th>7</th>\n",
       "      <td>2022-03-29 06:29:00</td>\n",
       "      <td>4/14/22</td>\n",
       "      <td>SPY</td>\n",
       "      <td>459.805</td>\n",
       "      <td>443</td>\n",
       "      <td>15.50</td>\n",
       "      <td>16.08</td>\n",
       "      <td>16</td>\n",
       "      <td>0.01</td>\n",
       "      <td>0.0</td>\n",
       "    </tr>\n",
       "    <tr>\n",
       "      <th>8</th>\n",
       "      <td>2022-03-29 06:29:00</td>\n",
       "      <td>4/14/22</td>\n",
       "      <td>SPY</td>\n",
       "      <td>459.805</td>\n",
       "      <td>444</td>\n",
       "      <td>14.83</td>\n",
       "      <td>15.15</td>\n",
       "      <td>16</td>\n",
       "      <td>0.01</td>\n",
       "      <td>0.0</td>\n",
       "    </tr>\n",
       "    <tr>\n",
       "      <th>9</th>\n",
       "      <td>2022-03-29 06:29:00</td>\n",
       "      <td>4/14/22</td>\n",
       "      <td>SPY</td>\n",
       "      <td>459.805</td>\n",
       "      <td>445</td>\n",
       "      <td>13.98</td>\n",
       "      <td>14.38</td>\n",
       "      <td>16</td>\n",
       "      <td>0.01</td>\n",
       "      <td>0.0</td>\n",
       "    </tr>\n",
       "  </tbody>\n",
       "</table>\n",
       "</div>"
      ],
      "text/plain": [
       "                  date  callExp ticker  underlying  strike    bid    ask  \\\n",
       "0  2022-03-29 06:29:00  4/14/22    SPY     459.805     436  21.55  22.22   \n",
       "1  2022-03-29 06:29:00  4/14/22    SPY     459.805     437  20.66  21.32   \n",
       "2  2022-03-29 06:29:00  4/14/22    SPY     459.805     438  19.78  20.41   \n",
       "3  2022-03-29 06:29:00  4/14/22    SPY     459.805     439  18.93  19.52   \n",
       "4  2022-03-29 06:29:00  4/14/22    SPY     459.805     440  18.10  18.48   \n",
       "5  2022-03-29 06:29:00  4/14/22    SPY     459.805     441  17.18  17.66   \n",
       "6  2022-03-29 06:29:00  4/14/22    SPY     459.805     442  16.34  16.93   \n",
       "7  2022-03-29 06:29:00  4/14/22    SPY     459.805     443  15.50  16.08   \n",
       "8  2022-03-29 06:29:00  4/14/22    SPY     459.805     444  14.83  15.15   \n",
       "9  2022-03-29 06:29:00  4/14/22    SPY     459.805     445  13.98  14.38   \n",
       "\n",
       "   days_maturity  interest  vol  \n",
       "0             16      0.01  0.0  \n",
       "1             16      0.01  0.0  \n",
       "2             16      0.01  0.0  \n",
       "3             16      0.01  0.0  \n",
       "4             16      0.01  0.0  \n",
       "5             16      0.01  0.0  \n",
       "6             16      0.01  0.0  \n",
       "7             16      0.01  0.0  \n",
       "8             16      0.01  0.0  \n",
       "9             16      0.01  0.0  "
      ]
     },
     "execution_count": 61,
     "metadata": {},
     "output_type": "execute_result"
    }
   ],
   "source": [
    "dh"
   ]
  },
  {
   "cell_type": "code",
   "execution_count": 67,
   "metadata": {},
   "outputs": [
    {
     "name": "stderr",
     "output_type": "stream",
     "text": [
      "/var/folders/qs/08lrvdq116j2p_7gkyvmdryw0000gn/T/ipykernel_13503/2704133441.py:7: SettingWithCopyWarning: \n",
      "A value is trying to be set on a copy of a slice from a DataFrame\n",
      "\n",
      "See the caveats in the documentation: https://pandas.pydata.org/pandas-docs/stable/user_guide/indexing.html#returning-a-view-versus-a-copy\n",
      "  wk_2['vol'][i] = other.iv(s,k,t,r,C)\n"
     ]
    }
   ],
   "source": [
    "for i in range(len(wk_2)):\n",
    "    s = wk_2['underlying'][i]\n",
    "    k = wk_2['strike'][i]\n",
    "    r = wk_2['interest'][i]\n",
    "    t = wk_2['days_maturity'][i]/365\n",
    "    C = (wk_2['bid'][i]+wk_2['ask'][i])/2.0\n",
    "    wk_2['vol'][i] = other.iv(s,k,t,r,C)\n"
   ]
  },
  {
   "cell_type": "code",
   "execution_count": 68,
   "metadata": {},
   "outputs": [
    {
     "name": "stdout",
     "output_type": "stream",
     "text": [
      "0.141179916449231 0.17501913234768438\n"
     ]
    }
   ],
   "source": [
    "print(wk_1['vol'].mean(), wk_2['vol'].mean())"
   ]
  },
  {
   "cell_type": "code",
   "execution_count": 70,
   "metadata": {},
   "outputs": [],
   "source": [
    "wk_1.to_csv(\"3_29_to_4_1.csv\")\n",
    "wk_2.to_csv(\"4_4_to_4_8.csv\")"
   ]
  },
  {
   "cell_type": "code",
   "execution_count": 71,
   "metadata": {},
   "outputs": [],
   "source": [
    "from matplotlib import pyplot as plt"
   ]
  },
  {
   "cell_type": "code",
   "execution_count": 91,
   "metadata": {},
   "outputs": [],
   "source": [
    "df_1 = wk_1\n",
    "df_2 = wk_2"
   ]
  },
  {
   "cell_type": "code",
   "execution_count": 92,
   "metadata": {},
   "outputs": [],
   "source": [
    "df_1 = df_1.loc[df_1['vol'] > 0.05]\n",
    "df_1 = df_1.loc[df_1['vol'] < 0.9]\n",
    "\n",
    "df_2 = df_2.loc[df_2['vol'] > 0.05]\n",
    "df_2 = df_2.loc[df_2['vol'] < 0.9]\n",
    "\n",
    "df_1['pct_away'] = 0.0\n",
    "df_2['pct_away'] = 0.0\n",
    "\n",
    "df_1 = df_1.reset_index(drop=True)\n",
    "df_2 = df_2.reset_index(drop=True)"
   ]
  },
  {
   "cell_type": "code",
   "execution_count": 93,
   "metadata": {},
   "outputs": [
    {
     "name": "stderr",
     "output_type": "stream",
     "text": [
      "/var/folders/qs/08lrvdq116j2p_7gkyvmdryw0000gn/T/ipykernel_13503/311042427.py:2: SettingWithCopyWarning: \n",
      "A value is trying to be set on a copy of a slice from a DataFrame\n",
      "\n",
      "See the caveats in the documentation: https://pandas.pydata.org/pandas-docs/stable/user_guide/indexing.html#returning-a-view-versus-a-copy\n",
      "  df_1['pct_away'][i] = ((df_1['strike'][i]/df_1['underlying'][i])-1)*100\n"
     ]
    }
   ],
   "source": [
    "for i in range(len(df_1)):\n",
    "    df_1['pct_away'][i] = ((df_1['strike'][i]/df_1['underlying'][i])-1)*100"
   ]
  },
  {
   "cell_type": "code",
   "execution_count": 94,
   "metadata": {},
   "outputs": [
    {
     "name": "stderr",
     "output_type": "stream",
     "text": [
      "/var/folders/qs/08lrvdq116j2p_7gkyvmdryw0000gn/T/ipykernel_13503/3497575406.py:2: SettingWithCopyWarning: \n",
      "A value is trying to be set on a copy of a slice from a DataFrame\n",
      "\n",
      "See the caveats in the documentation: https://pandas.pydata.org/pandas-docs/stable/user_guide/indexing.html#returning-a-view-versus-a-copy\n",
      "  df_2['pct_away'][i] = ((df_2['strike'][i]/df_2['underlying'][i])-1)*100\n"
     ]
    }
   ],
   "source": [
    "for i in range(len(df_2)):\n",
    "    df_2['pct_away'][i] = ((df_2['strike'][i]/df_2['underlying'][i])-1)*100"
   ]
  },
  {
   "cell_type": "code",
   "execution_count": 95,
   "metadata": {},
   "outputs": [
    {
     "data": {
      "text/plain": [
       "<matplotlib.collections.PathCollection at 0x11cbf8430>"
      ]
     },
     "execution_count": 95,
     "metadata": {},
     "output_type": "execute_result"
    },
    {
     "data": {
      "image/png": "[encoded data removed]",
      "text/plain": [
       "<Figure size 432x288 with 1 Axes>"
      ]
     },
     "metadata": {
      "needs_background": "light"
     },
     "output_type": "display_data"
    }
   ],
   "source": [
    "plt.scatter(df_1['pct_away'],df_1['vol'])"
   ]
  },
  {
   "cell_type": "code",
   "execution_count": 96,
   "metadata": {},
   "outputs": [
    {
     "data": {
      "text/plain": [
       "<matplotlib.collections.PathCollection at 0x11cb3b820>"
      ]
     },
     "execution_count": 96,
     "metadata": {},
     "output_type": "execute_result"
    },
    {
     "data": {
      "image/png": "[encoded data removed]",
      "text/plain": [
       "<Figure size 432x288 with 1 Axes>"
      ]
     },
     "metadata": {
      "needs_background": "light"
     },
     "output_type": "display_data"
    }
   ],
   "source": [
    "plt.scatter(df_2['pct_away'],df_2['vol'])"
   ]
  },
  {
   "cell_type": "code",
   "execution_count": 97,
   "metadata": {},
   "outputs": [],
   "source": [
    "df_1.to_csv(\"3_29_to_4_1.csv\")\n",
    "df_2.to_csv(\"4_4_to_4_8.csv\")"
   ]
  },
  {
   "cell_type": "code",
   "execution_count": null,
   "metadata": {},
   "outputs": [],
   "source": []
  }
 ],
 "metadata": {
  "interpreter": {
   "hash": "aee8b7b246df8f9039afb4144a1f6fd8d2ca17a180786b69acc140d282b71a49"
  },
  "kernelspec": {
   "display_name": "Python 3.10.0 64-bit",
   "name": "python3"
  },
  "language_info": {
   "codemirror_mode": {
    "name": "ipython",
    "version": 3
   },
   "file_extension": ".py",
   "mimetype": "text/x-python",
   "name": "python",
   "nbconvert_exporter": "python",
   "pygments_lexer": "ipython3",
   "version": "3.10.2"
  },
  "orig_nbformat": 4
 },
 "nbformat": 4,
 "nbformat_minor": 2
}
