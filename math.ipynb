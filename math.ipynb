{
 "cells": [
  {
   "cell_type": "code",
   "execution_count": 2,
   "metadata": {},
   "outputs": [],
   "source": [
    "import math\n",
    "from matplotlib import pyplot as plt\n",
    "import numpy as np \n",
    "from statistics import NormalDist"
   ]
  },
  {
   "cell_type": "code",
   "execution_count": 3,
   "metadata": {},
   "outputs": [],
   "source": [
    "#INTC CALL PRICE BACK CALCULATION \n",
    "#ASK = 0.47\n",
    "s = 49.20\n",
    "k = 50.00\n",
    "r = 0.01\n",
    "t = 10/365\n",
    "vol = 0.2354"
   ]
  },
  {
   "cell_type": "code",
   "execution_count": 4,
   "metadata": {},
   "outputs": [],
   "source": [
    "# c = s*N(d1) - k*(e^-r*t)*N(d2)\n",
    "\n",
    "# d1 = (ln(s/k) + ((r + (sigma^2)/2)^2)*t)/(sigma*sqrt(t))\n",
    "\n",
    "# d2 = d1 - sigma*sqrt(t)\n",
    "\n",
    "# N(x) = (1/(sigma*sqrt(2*pi))* exp(-0.5*(((x-u)^2)/sigma)))"
   ]
  },
  {
   "cell_type": "code",
   "execution_count": 5,
   "metadata": {},
   "outputs": [],
   "source": [
    "def Normal_distribution(d):\n",
    "    N = (1/(np.sqrt(2*np.pi))* np.exp(-0.5*(((d)**2)/1)))\n",
    "    N = NormalDist(mu=0, sigma=1).cdf(d)\n",
    "    return N"
   ]
  },
  {
   "cell_type": "code",
   "execution_count": 6,
   "metadata": {},
   "outputs": [
    {
     "name": "stdout",
     "output_type": "stream",
     "text": [
      "-0.38744602448093823 -0.42640970971633774\n"
     ]
    }
   ],
   "source": [
    "d1 = (np.log(s/k) + ((r + (vol**2)/2))*t)/(vol*np.sqrt(t))\n",
    "N_d1 = Normal_distribution(d1)\n",
    "d2 = d1 - vol*np.sqrt(t)\n",
    "N_d2 = Normal_distribution(d2)\n",
    "print(d1,d2)"
   ]
  },
  {
   "cell_type": "code",
   "execution_count": 7,
   "metadata": {},
   "outputs": [],
   "source": [
    "c = s*(N_d1) - k*(np.exp(-r*t))*N_d2"
   ]
  },
  {
   "cell_type": "markdown",
   "metadata": {},
   "source": []
  },
  {
   "cell_type": "code",
   "execution_count": 8,
   "metadata": {},
   "outputs": [
    {
     "data": {
      "text/plain": [
       "0.440634422890696"
      ]
     },
     "execution_count": 8,
     "metadata": {},
     "output_type": "execute_result"
    }
   ],
   "source": [
    "c"
   ]
  },
  {
   "cell_type": "code",
   "execution_count": 9,
   "metadata": {},
   "outputs": [],
   "source": [
    "N = (1/(np.sqrt(2*np.pi))* np.exp(-0.5*((d2)**2)))\n",
    "\n",
    "a = NormalDist(mu=0, sigma=1).cdf(d2)\n"
   ]
  },
  {
   "cell_type": "code",
   "execution_count": 10,
   "metadata": {},
   "outputs": [],
   "source": [
    "x1 = np.arange(-1,1.1,0.1)\n",
    "x2 = np.arange(-1,1.1,0.1)"
   ]
  },
  {
   "cell_type": "code",
   "execution_count": 11,
   "metadata": {},
   "outputs": [],
   "source": [
    "y1 = []\n",
    "y2 = []\n",
    "for i in x1:\n",
    "    value1 = ((1/(np.sqrt(2*np.pi)))* np.exp(-0.5*((i)**2)))\n",
    "    value1 = np.cumsum(value1)\n",
    "    value2 = NormalDist(mu=0, sigma=1).cdf(i)\n",
    "\n",
    "    y1.append(value1)\n",
    "    y2.append(value2)"
   ]
  },
  {
   "cell_type": "code",
   "execution_count": 12,
   "metadata": {},
   "outputs": [],
   "source": [
    "def Norm_cdf(value):\n",
    "    x = np.arange(-1,value,0.01)\n",
    "    cumsum = []\n",
    "    sum_ = 0.0\n",
    "    for i in x:\n",
    "        value1 = (1/(np.sqrt(2*np.pi))* np.exp(-0.5*((i)**2)))\n",
    "        cumsum.append(value1)\n",
    "        sum_ += value1\n",
    "    return sum_"
   ]
  },
  {
   "cell_type": "code",
   "execution_count": 13,
   "metadata": {},
   "outputs": [],
   "source": [
    "def Norm_dist(value):\n",
    "    value2 = NormalDist(mu=0,sigma=1).cdf(value)\n",
    "    return value2"
   ]
  },
  {
   "cell_type": "code",
   "execution_count": 14,
   "metadata": {},
   "outputs": [],
   "source": [
    "a = Norm_cdf(d2)\n",
    "b = Norm_dist(d2)"
   ]
  },
  {
   "cell_type": "code",
   "execution_count": 15,
   "metadata": {},
   "outputs": [
    {
     "data": {
      "text/plain": [
       "17.79702751722221"
      ]
     },
     "execution_count": 15,
     "metadata": {},
     "output_type": "execute_result"
    }
   ],
   "source": [
    "a"
   ]
  },
  {
   "cell_type": "code",
   "execution_count": null,
   "metadata": {},
   "outputs": [],
   "source": []
  },
  {
   "cell_type": "code",
   "execution_count": null,
   "metadata": {},
   "outputs": [],
   "source": []
  },
  {
   "cell_type": "code",
   "execution_count": null,
   "metadata": {},
   "outputs": [],
   "source": []
  }
 ],
 "metadata": {
  "interpreter": {
   "hash": "aee8b7b246df8f9039afb4144a1f6fd8d2ca17a180786b69acc140d282b71a49"
  },
  "kernelspec": {
   "display_name": "Python 3.10.0 64-bit",
   "name": "python3"
  },
  "language_info": {
   "codemirror_mode": {
    "name": "ipython",
    "version": 3
   },
   "file_extension": ".py",
   "mimetype": "text/x-python",
   "name": "python",
   "nbconvert_exporter": "python",
   "pygments_lexer": "ipython3",
   "version": "3.10.2"
  },
  "orig_nbformat": 4
 },
 "nbformat": 4,
 "nbformat_minor": 2
}
