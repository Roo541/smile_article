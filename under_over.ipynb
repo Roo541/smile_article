{
 "cells": [
  {
   "cell_type": "code",
   "execution_count": 1,
   "metadata": {},
   "outputs": [],
   "source": [
    "import numpy as np"
   ]
  },
  {
   "cell_type": "code",
   "execution_count": 6,
   "metadata": {},
   "outputs": [],
   "source": [
    "s = 48.67\n",
    "k = 50.0\n",
    "r = 0.01\n",
    "t = 9/365.0\n",
    "sigma_1 = 0.2471\n",
    "C = 0.29\n",
    "vol = 0.0"
   ]
  },
  {
   "cell_type": "code",
   "execution_count": 92,
   "metadata": {},
   "outputs": [],
   "source": [
    "def MyDist(d):\n",
    "    dx = 0.01\n",
    "    x = np.arange(-1, d, dx)\n",
    "    y = []\n",
    "    sigma = 1.0\n",
    "    summation = 0.158\n",
    "    for i in x:\n",
    "        value = (1/(sigma*np.sqrt(2*np.pi)))*(np.exp((-0.5)*(i/sigma)**2))\n",
    "        summation += value*dx\n",
    "        y.append(summation)\n",
    "    \n",
    "    N = y[-1:]\n",
    "    return N[0]\n",
    "\n",
    "def call(s, k, r, t, C,d1):\n",
    "    d1 = (np.log(s/k) + ((r + (vol**2)/2))*t)/(vol*np.sqrt(t))\n",
    "    N_1 = MyDist(d1)\n",
    "    d2 = d1 - vol*np.sqrt(t)\n",
    "    N_2 = MyDist(d2)\n",
    "\n",
    "    call_price = s*N_1 - k*(np.exp(-r*t))*N_2\n",
    "\n",
    "    return call_price"
   ]
  },
  {
   "cell_type": "code",
   "execution_count": 169,
   "metadata": {},
   "outputs": [],
   "source": [
    "vol = np.arange(0.01,1.0,0.0001)"
   ]
  },
  {
   "cell_type": "code",
   "execution_count": 212,
   "metadata": {},
   "outputs": [
    {
     "name": "stdout",
     "output_type": "stream",
     "text": [
      "0.2877473284130456\n"
     ]
    }
   ],
   "source": [
    "tolerance = 0.01\n",
    "for i in vol:\n",
    "    try:\n",
    "        d1 = (np.log(s/k) + ((r + (i**2)/2))*t)/(i*np.sqrt(t))\n",
    "        N_1 = MyDist(d1)\n",
    "        d2 = d1 - i*np.sqrt(t)\n",
    "        N_2 = MyDist(d2)\n",
    "        call_price = s*N_1 - k*(np.exp(-r*t))*N_2\n",
    "\n",
    "        if (C - C*tolerance) < call_price and (C + C*tolerance) > call_price:\n",
    "            print(call_price)\n",
    "            now = i\n",
    "            break\n",
    "    except:\n",
    "        pass"
   ]
  },
  {
   "cell_type": "code",
   "execution_count": 213,
   "metadata": {},
   "outputs": [
    {
     "data": {
      "text/plain": [
       "0.20119999999999885"
      ]
     },
     "execution_count": 213,
     "metadata": {},
     "output_type": "execute_result"
    }
   ],
   "source": [
    "now"
   ]
  },
  {
   "cell_type": "code",
   "execution_count": 165,
   "metadata": {},
   "outputs": [],
   "source": [
    "v =0.20599999999999985\n",
    "d1 = (np.log(s/k) + ((r + (v**2)/2))*t)/(v*np.sqrt(t))\n",
    "N_1 = MyDist(d1)\n",
    "d2 = d1 - v*np.sqrt(t)\n",
    "N_2 = MyDist(d2)\n",
    "price = s*N_1 - k*(np.exp(-r*t))*N_2\n"
   ]
  },
  {
   "cell_type": "code",
   "execution_count": 166,
   "metadata": {},
   "outputs": [
    {
     "data": {
      "text/plain": [
       "0.2896036436415095"
      ]
     },
     "execution_count": 166,
     "metadata": {},
     "output_type": "execute_result"
    }
   ],
   "source": [
    "price"
   ]
  },
  {
   "cell_type": "code",
   "execution_count": 207,
   "metadata": {},
   "outputs": [],
   "source": [
    "vol = np.arange(0.01,2,0.0001)\n",
    "y = []\n",
    "for j in vol:\n",
    "    value = (np.log(s/k) + ((r + (j**2)/2))*t)/(j*np.sqrt(t))\n",
    "    y.append(value)\n"
   ]
  },
  {
   "cell_type": "code",
   "execution_count": 208,
   "metadata": {},
   "outputs": [],
   "source": [
    "from matplotlib import pyplot as plt "
   ]
  },
  {
   "cell_type": "code",
   "execution_count": 211,
   "metadata": {},
   "outputs": [
    {
     "data": {
      "text/plain": [
       "[<matplotlib.lines.Line2D at 0x116620d00>]"
      ]
     },
     "execution_count": 211,
     "metadata": {},
     "output_type": "execute_result"
    },
    {
     "data": {
      "image/png": "[encoded data removed]",
      "text/plain": [
       "<Figure size 432x288 with 1 Axes>"
      ]
     },
     "metadata": {
      "needs_background": "light"
     },
     "output_type": "display_data"
    }
   ],
   "source": [
    "plt.plot(vol, y)"
   ]
  },
  {
   "cell_type": "code",
   "execution_count": null,
   "metadata": {},
   "outputs": [],
   "source": []
  },
  {
   "cell_type": "code",
   "execution_count": null,
   "metadata": {},
   "outputs": [],
   "source": []
  }
 ],
 "metadata": {
  "interpreter": {
   "hash": "aee8b7b246df8f9039afb4144a1f6fd8d2ca17a180786b69acc140d282b71a49"
  },
  "kernelspec": {
   "display_name": "Python 3.10.2 64-bit",
   "language": "python",
   "name": "python3"
  },
  "language_info": {
   "codemirror_mode": {
    "name": "ipython",
    "version": 3
   },
   "file_extension": ".py",
   "mimetype": "text/x-python",
   "name": "python",
   "nbconvert_exporter": "python",
   "pygments_lexer": "ipython3",
   "version": "3.10.2"
  },
  "orig_nbformat": 4
 },
 "nbformat": 4,
 "nbformat_minor": 2
}
