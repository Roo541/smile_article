{
 "cells": [
  {
   "cell_type": "code",
   "execution_count": 9,
   "metadata": {},
   "outputs": [],
   "source": [
    "import numpy as np\n",
    "from matplotlib import pyplot as plt\n",
    "from statistics import NormalDist"
   ]
  },
  {
   "cell_type": "code",
   "execution_count": 10,
   "metadata": {},
   "outputs": [],
   "source": [
    "# c = s*N(d1) - k*(e^-r*t)*N(d2)\n",
    "\n",
    "# d1 = (ln(s/k) + ((r + (sigma^2)/2)^2)*t)/(sigma*sqrt(t))\n",
    "\n",
    "# d2 = d1 - sigma*sqrt(t)\n",
    "\n",
    "# N(x) = (1/(sigma*sqrt(2*pi))* exp(-0.5*(((x-u)^2)/sigma)))"
   ]
  },
  {
   "cell_type": "code",
   "execution_count": 11,
   "metadata": {},
   "outputs": [],
   "source": [
    "sigma = np.arange(0,1,0.01)"
   ]
  },
  {
   "cell_type": "code",
   "execution_count": 52,
   "metadata": {},
   "outputs": [],
   "source": [
    "s = 38.25\n",
    "k = 40.0\n",
    "r = 0.01\n",
    "t = 9/365\n",
    "c0 = 0.86"
   ]
  },
  {
   "cell_type": "code",
   "execution_count": 53,
   "metadata": {},
   "outputs": [
    {
     "name": "stderr",
     "output_type": "stream",
     "text": [
      "/var/folders/mb/s55_rmmx4gq6kyms8tszjclh0000gn/T/ipykernel_80273/431836814.py:4: RuntimeWarning: divide by zero encountered in double_scalars\n",
      "  d1 = (np.log(s/k) + ((r + (i**2)/2)**2)*t)/(i*np.sqrt(t))\n"
     ]
    }
   ],
   "source": [
    "x = sigma\n",
    "y = []\n",
    "for i in x:\n",
    "    d1 = (np.log(s/k) + ((r + (i**2)/2)**2)*t)/(i*np.sqrt(t))\n",
    "    d2 = d1 - i*np.sqrt(t)\n",
    "    value = s*NormalDist(mu=0, sigma=1).cdf(d1) - k*(np.exp(-r*t))*NormalDist(mu=0, sigma=1).cdf(d2) -c0\n",
    "    y.append(value)"
   ]
  },
  {
   "cell_type": "code",
   "execution_count": 54,
   "metadata": {},
   "outputs": [
    {
     "data": {
      "text/plain": [
       "[<matplotlib.lines.Line2D at 0x1364a80d0>]"
      ]
     },
     "execution_count": 54,
     "metadata": {},
     "output_type": "execute_result"
    },
    {
     "data": {
      "image/png": "[encoded data removed]",
      "text/plain": [
       "<Figure size 432x288 with 1 Axes>"
      ]
     },
     "metadata": {
      "needs_background": "light"
     },
     "output_type": "display_data"
    }
   ],
   "source": [
    "plt.plot(x, y)"
   ]
  },
  {
   "cell_type": "code",
   "execution_count": 55,
   "metadata": {},
   "outputs": [
    {
     "name": "stdout",
     "output_type": "stream",
     "text": [
      "-0.7215639420337766\n"
     ]
    }
   ],
   "source": [
    "i = 0.279\n",
    "d1 = (np.log(s/k) + ((r + (i**2)/2)**2)*t)/(i*np.sqrt(t))\n",
    "d2 = d1 - i*np.sqrt(t)\n",
    "value = s*NormalDist(mu=0, sigma=1).cdf(d1) - k*(np.exp(-r*t))*NormalDist(mu=0, sigma=1).cdf(d2) -c0\n",
    "print(value)"
   ]
  },
  {
   "cell_type": "code",
   "execution_count": 74,
   "metadata": {},
   "outputs": [],
   "source": [
    "vol = np.arange(0.001,1,0.0001)\n",
    "tol = 0.0001\n",
    "for i in vol:\n",
    "    d1 = (np.log(s/k) + ((r + (i**2)/2)**2)*t)/(i*np.sqrt(t))\n",
    "    d2 = d1 - i*np.sqrt(t)\n",
    "    value = s*NormalDist(mu=0, sigma=1).cdf(d1) - k*(np.exp(-r*t))*NormalDist(mu=0, sigma=1).cdf(d2) -c0\n",
    "\n",
    "    if value < tol and value > -tol:\n",
    "        wow = i\n",
    "     "
   ]
  },
  {
   "cell_type": "code",
   "execution_count": 75,
   "metadata": {},
   "outputs": [
    {
     "data": {
      "text/plain": [
       "0.6456000000000003"
      ]
     },
     "execution_count": 75,
     "metadata": {},
     "output_type": "execute_result"
    }
   ],
   "source": [
    "wow"
   ]
  },
  {
   "cell_type": "code",
   "execution_count": 65,
   "metadata": {},
   "outputs": [],
   "source": [
    "vega = s*NormalDist(mu=0, sigma=1).pdf(d1)*np.sqrt(t)"
   ]
  },
  {
   "cell_type": "code",
   "execution_count": 66,
   "metadata": {},
   "outputs": [],
   "source": [
    "vol = 0.5\n",
    "\n",
    "d1 = (np.log(s/k) + ((r + (i**2)/2)**2)*t)/(i*np.sqrt(t))"
   ]
  },
  {
   "cell_type": "code",
   "execution_count": 69,
   "metadata": {},
   "outputs": [],
   "source": [
    "from math import sqrt, exp, log, pi\n",
    "from statistics import NormalDist\n",
    "\n",
    "def d(sigma,S,k,r,t):\n",
    "    d1 = 1/(sigma*sqrt(t)) * (log(S/k) + (r + sigma**2/2) * t)\n",
    "    d2 = d1 - sigma * sqrt(t)\n",
    "    return d1, d2 \n",
    "\n",
    "def call_price(sigma, S, k, r, t, d1, d2):\n",
    "    C = NormalDist(mu=0, sigma=1).cdf(d1) * S - NormalDist(mu=0, sigma=1).cdf(d2) * k * exp(-r * t)\n",
    "    return C\n",
    "\n",
    "def iv(S,k,t,r,c0):\n",
    "\n",
    "    tol = 1e-3\n",
    "    epsilon = 1\n",
    "\n",
    "    count = 0\n",
    "    max_iter = 1000\n",
    "\n",
    "    vol = 0.99 \n",
    "\n",
    "    while epsilon > tol:\n",
    "        count += 1\n",
    "        orig_vol = vol\n",
    "\n",
    "        d1, d2 = d(vol, S, k, r, t)\n",
    "        function_value = call_price(vol, S, k, r, t, d1, d2) - c0  \n",
    "\n",
    "        vega = S * NormalDist(mu=0, sigma=1).pdf(d1) * sqrt(t)\n",
    "        if vega != 0.0:\n",
    "        \n",
    "            vol = -function_value/ vega + vol\n",
    "\n",
    "            epsilon = abs( (vol - orig_vol) / orig_vol )\n",
    "        \n",
    "        else:\n",
    "            vol = 0.99\n",
    "\n",
    "        if count > max_iter:\n",
    "            break\n",
    "\n",
    "    return vol\n"
   ]
  },
  {
   "cell_type": "code",
   "execution_count": 70,
   "metadata": {},
   "outputs": [],
   "source": [
    "alpha = iv(s,k,t,r,c0)"
   ]
  },
  {
   "cell_type": "code",
   "execution_count": 61,
   "metadata": {},
   "outputs": [
    {
     "data": {
      "text/plain": [
       "0.6450885738412688"
      ]
     },
     "execution_count": 61,
     "metadata": {},
     "output_type": "execute_result"
    }
   ],
   "source": [
    "alpha"
   ]
  },
  {
   "cell_type": "code",
   "execution_count": null,
   "metadata": {},
   "outputs": [],
   "source": []
  }
 ],
 "metadata": {
  "interpreter": {
   "hash": "aee8b7b246df8f9039afb4144a1f6fd8d2ca17a180786b69acc140d282b71a49"
  },
  "kernelspec": {
   "display_name": "Python 3.10.0 64-bit",
   "name": "python3"
  },
  "language_info": {
   "codemirror_mode": {
    "name": "ipython",
    "version": 3
   },
   "file_extension": ".py",
   "mimetype": "text/x-python",
   "name": "python",
   "nbconvert_exporter": "python",
   "pygments_lexer": "ipython3",
   "version": "3.10.0"
  },
  "orig_nbformat": 4
 },
 "nbformat": 4,
 "nbformat_minor": 2
}
